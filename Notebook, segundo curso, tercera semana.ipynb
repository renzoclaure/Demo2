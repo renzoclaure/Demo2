{
    "cells": [
        {
            "cell_type": "code",
            "execution_count": 1,
            "metadata": {},
            "outputs": [
                {
                    "name": "stdout",
                    "output_type": "stream",
                    "text": "Waiting for a Spark session to start...\nSpark Initialization Done! ApplicationId = app-20200808185905-0000\nKERNEL_ID = b12c80eb-6994-4dc1-8d79-90c6134c9937\n"
                },
                {
                    "data": {
                        "text/plain": "[Row(18;8;307;130;3504;12;70;1;chevrolet chevelle malibu='15;8;350;165;3693;11;5;70;1;buick skylark 320'),\n Row(18;8;307;130;3504;12;70;1;chevrolet chevelle malibu='18;8;318;150;3436;11;70;1;plymouth satellite'),\n Row(18;8;307;130;3504;12;70;1;chevrolet chevelle malibu='16;8;304;150;3433;12;70;1;amc rebel sst'),\n Row(18;8;307;130;3504;12;70;1;chevrolet chevelle malibu='17;8;302;140;3449;10;5;70;1;ford torino'),\n Row(18;8;307;130;3504;12;70;1;chevrolet chevelle malibu='15;8;429;198;4341;10;70;1;ford galaxie 500')]"
                    },
                    "execution_count": 1,
                    "metadata": {},
                    "output_type": "execute_result"
                }
            ],
            "source": "# The code was removed by Watson Studio for sharing."
        },
        {
            "cell_type": "code",
            "execution_count": null,
            "metadata": {},
            "outputs": [],
            "source": ""
        }
    ],
    "metadata": {
        "kernelspec": {
            "display_name": "Python 3.6 with Spark",
            "language": "python3",
            "name": "python36"
        },
        "language_info": {
            "codemirror_mode": {
                "name": "ipython",
                "version": 3
            },
            "file_extension": ".py",
            "mimetype": "text/x-python",
            "name": "python",
            "nbconvert_exporter": "python",
            "pygments_lexer": "ipython3",
            "version": "3.6.8"
        }
    },
    "nbformat": 4,
    "nbformat_minor": 1
}